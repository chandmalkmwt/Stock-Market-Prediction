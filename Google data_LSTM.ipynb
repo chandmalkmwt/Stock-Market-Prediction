{
 "cells": [
  {
   "cell_type": "code",
   "execution_count": 1,
   "id": "ec5a8fd9",
   "metadata": {},
   "outputs": [],
   "source": [
    "import numpy as np\n",
    "import pandas as pd\n",
    "import matplotlib.pyplot as plt\n",
    "import seaborn as sbn\n",
    "from sklearn.preprocessing import MinMaxScaler\n",
    "from sklearn.metrics import mean_squared_error, r2_score\n",
    "from keras.models import Sequential\n",
    "from keras.layers import Dense,LSTM,Dropout"
   ]
  },
  {
   "cell_type": "markdown",
   "id": "d487c03d",
   "metadata": {},
   "source": [
    "#### 1. Read the google train data file"
   ]
  },
  {
   "cell_type": "code",
   "execution_count": 2,
   "id": "b8bde6f7",
   "metadata": {
    "scrolled": true
   },
   "outputs": [],
   "source": [
    "df = pd.read_csv('GOOG_train.csv')"
   ]
  },
  {
   "cell_type": "code",
   "execution_count": 3,
   "id": "2cd6dfff",
   "metadata": {},
   "outputs": [
    {
     "data": {
      "text/plain": [
       "(1258, 7)"
      ]
     },
     "execution_count": 3,
     "metadata": {},
     "output_type": "execute_result"
    }
   ],
   "source": [
    "df.shape"
   ]
  },
  {
   "cell_type": "markdown",
   "id": "2ce4580d",
   "metadata": {},
   "source": [
    "#### 2. Basic information"
   ]
  },
  {
   "cell_type": "code",
   "execution_count": 4,
   "id": "fb986d1f",
   "metadata": {
    "scrolled": true
   },
   "outputs": [
    {
     "name": "stdout",
     "output_type": "stream",
     "text": [
      "<class 'pandas.core.frame.DataFrame'>\n",
      "RangeIndex: 1258 entries, 0 to 1257\n",
      "Data columns (total 7 columns):\n",
      " #   Column     Non-Null Count  Dtype  \n",
      "---  ------     --------------  -----  \n",
      " 0   Date       1258 non-null   object \n",
      " 1   Open       1258 non-null   float64\n",
      " 2   High       1258 non-null   float64\n",
      " 3   Low        1258 non-null   float64\n",
      " 4   Close      1258 non-null   float64\n",
      " 5   Adj Close  1258 non-null   float64\n",
      " 6   Volume     1258 non-null   int64  \n",
      "dtypes: float64(5), int64(1), object(1)\n",
      "memory usage: 68.9+ KB\n"
     ]
    }
   ],
   "source": [
    "df.info()"
   ]
  },
  {
   "cell_type": "markdown",
   "id": "c6b56852",
   "metadata": {},
   "source": [
    "#### Statistical info of given data"
   ]
  },
  {
   "cell_type": "code",
   "execution_count": 5,
   "id": "be9bf82d",
   "metadata": {
    "scrolled": true
   },
   "outputs": [
    {
     "data": {
      "text/html": [
       "<div>\n",
       "<style scoped>\n",
       "    .dataframe tbody tr th:only-of-type {\n",
       "        vertical-align: middle;\n",
       "    }\n",
       "\n",
       "    .dataframe tbody tr th {\n",
       "        vertical-align: top;\n",
       "    }\n",
       "\n",
       "    .dataframe thead th {\n",
       "        text-align: right;\n",
       "    }\n",
       "</style>\n",
       "<table border=\"1\" class=\"dataframe\">\n",
       "  <thead>\n",
       "    <tr style=\"text-align: right;\">\n",
       "      <th></th>\n",
       "      <th>Open</th>\n",
       "      <th>High</th>\n",
       "      <th>Low</th>\n",
       "      <th>Close</th>\n",
       "      <th>Adj Close</th>\n",
       "      <th>Volume</th>\n",
       "    </tr>\n",
       "  </thead>\n",
       "  <tbody>\n",
       "    <tr>\n",
       "      <th>count</th>\n",
       "      <td>1258.000000</td>\n",
       "      <td>1258.000000</td>\n",
       "      <td>1258.000000</td>\n",
       "      <td>1258.000000</td>\n",
       "      <td>1258.000000</td>\n",
       "      <td>1.258000e+03</td>\n",
       "    </tr>\n",
       "    <tr>\n",
       "      <th>mean</th>\n",
       "      <td>1212.412150</td>\n",
       "      <td>1224.570048</td>\n",
       "      <td>1201.347431</td>\n",
       "      <td>1213.457483</td>\n",
       "      <td>1213.457483</td>\n",
       "      <td>1.610740e+06</td>\n",
       "    </tr>\n",
       "    <tr>\n",
       "      <th>std</th>\n",
       "      <td>379.454923</td>\n",
       "      <td>384.609149</td>\n",
       "      <td>375.747847</td>\n",
       "      <td>380.308660</td>\n",
       "      <td>380.308660</td>\n",
       "      <td>7.031610e+05</td>\n",
       "    </tr>\n",
       "    <tr>\n",
       "      <th>min</th>\n",
       "      <td>671.000000</td>\n",
       "      <td>672.299988</td>\n",
       "      <td>663.283997</td>\n",
       "      <td>668.260010</td>\n",
       "      <td>668.260010</td>\n",
       "      <td>3.468000e+05</td>\n",
       "    </tr>\n",
       "    <tr>\n",
       "      <th>25%</th>\n",
       "      <td>957.377518</td>\n",
       "      <td>963.404984</td>\n",
       "      <td>950.767502</td>\n",
       "      <td>958.119980</td>\n",
       "      <td>958.119980</td>\n",
       "      <td>1.184300e+06</td>\n",
       "    </tr>\n",
       "    <tr>\n",
       "      <th>50%</th>\n",
       "      <td>1130.574951</td>\n",
       "      <td>1142.984985</td>\n",
       "      <td>1117.374024</td>\n",
       "      <td>1132.005005</td>\n",
       "      <td>1132.005005</td>\n",
       "      <td>1.423200e+06</td>\n",
       "    </tr>\n",
       "    <tr>\n",
       "      <th>75%</th>\n",
       "      <td>1357.785034</td>\n",
       "      <td>1372.300995</td>\n",
       "      <td>1346.885010</td>\n",
       "      <td>1358.957519</td>\n",
       "      <td>1358.957519</td>\n",
       "      <td>1.823950e+06</td>\n",
       "    </tr>\n",
       "    <tr>\n",
       "      <th>max</th>\n",
       "      <td>2499.500000</td>\n",
       "      <td>2505.000000</td>\n",
       "      <td>2487.330078</td>\n",
       "      <td>2491.399902</td>\n",
       "      <td>2491.399902</td>\n",
       "      <td>6.207000e+06</td>\n",
       "    </tr>\n",
       "  </tbody>\n",
       "</table>\n",
       "</div>"
      ],
      "text/plain": [
       "              Open         High          Low        Close    Adj Close  \\\n",
       "count  1258.000000  1258.000000  1258.000000  1258.000000  1258.000000   \n",
       "mean   1212.412150  1224.570048  1201.347431  1213.457483  1213.457483   \n",
       "std     379.454923   384.609149   375.747847   380.308660   380.308660   \n",
       "min     671.000000   672.299988   663.283997   668.260010   668.260010   \n",
       "25%     957.377518   963.404984   950.767502   958.119980   958.119980   \n",
       "50%    1130.574951  1142.984985  1117.374024  1132.005005  1132.005005   \n",
       "75%    1357.785034  1372.300995  1346.885010  1358.957519  1358.957519   \n",
       "max    2499.500000  2505.000000  2487.330078  2491.399902  2491.399902   \n",
       "\n",
       "             Volume  \n",
       "count  1.258000e+03  \n",
       "mean   1.610740e+06  \n",
       "std    7.031610e+05  \n",
       "min    3.468000e+05  \n",
       "25%    1.184300e+06  \n",
       "50%    1.423200e+06  \n",
       "75%    1.823950e+06  \n",
       "max    6.207000e+06  "
      ]
     },
     "execution_count": 5,
     "metadata": {},
     "output_type": "execute_result"
    }
   ],
   "source": [
    "df.describe()"
   ]
  },
  {
   "cell_type": "markdown",
   "id": "4bd70792",
   "metadata": {},
   "source": [
    "#### Null values in each column"
   ]
  },
  {
   "cell_type": "code",
   "execution_count": 6,
   "id": "ad2a743e",
   "metadata": {},
   "outputs": [
    {
     "data": {
      "text/plain": [
       "Date         0\n",
       "Open         0\n",
       "High         0\n",
       "Low          0\n",
       "Close        0\n",
       "Adj Close    0\n",
       "Volume       0\n",
       "dtype: int64"
      ]
     },
     "execution_count": 6,
     "metadata": {},
     "output_type": "execute_result"
    }
   ],
   "source": [
    "df.isnull().sum()"
   ]
  },
  {
   "cell_type": "markdown",
   "id": "ac2e1c8b",
   "metadata": {},
   "source": [
    "#### 3. 'Close' column as training data"
   ]
  },
  {
   "cell_type": "code",
   "execution_count": 7,
   "id": "c33b51e5",
   "metadata": {
    "scrolled": true
   },
   "outputs": [
    {
     "data": {
      "text/plain": [
       "0        719.409973\n",
       "1        718.359985\n",
       "2        718.270020\n",
       "3        718.919983\n",
       "4        710.359985\n",
       "           ...     \n",
       "1253    2404.610107\n",
       "1254    2451.760010\n",
       "1255    2466.090088\n",
       "1256    2482.850098\n",
       "1257    2491.399902\n",
       "Name: Close, Length: 1258, dtype: float64"
      ]
     },
     "execution_count": 7,
     "metadata": {},
     "output_type": "execute_result"
    }
   ],
   "source": [
    "df_close = df['Close']\n",
    "df_close"
   ]
  },
  {
   "cell_type": "code",
   "execution_count": 8,
   "id": "314b06dd",
   "metadata": {
    "scrolled": true
   },
   "outputs": [
    {
     "data": {
      "text/html": [
       "<div>\n",
       "<style scoped>\n",
       "    .dataframe tbody tr th:only-of-type {\n",
       "        vertical-align: middle;\n",
       "    }\n",
       "\n",
       "    .dataframe tbody tr th {\n",
       "        vertical-align: top;\n",
       "    }\n",
       "\n",
       "    .dataframe thead th {\n",
       "        text-align: right;\n",
       "    }\n",
       "</style>\n",
       "<table border=\"1\" class=\"dataframe\">\n",
       "  <thead>\n",
       "    <tr style=\"text-align: right;\">\n",
       "      <th></th>\n",
       "      <th>Close</th>\n",
       "    </tr>\n",
       "  </thead>\n",
       "  <tbody>\n",
       "    <tr>\n",
       "      <th>0</th>\n",
       "      <td>719.409973</td>\n",
       "    </tr>\n",
       "    <tr>\n",
       "      <th>1</th>\n",
       "      <td>718.359985</td>\n",
       "    </tr>\n",
       "    <tr>\n",
       "      <th>2</th>\n",
       "      <td>718.270020</td>\n",
       "    </tr>\n",
       "    <tr>\n",
       "      <th>3</th>\n",
       "      <td>718.919983</td>\n",
       "    </tr>\n",
       "    <tr>\n",
       "      <th>4</th>\n",
       "      <td>710.359985</td>\n",
       "    </tr>\n",
       "    <tr>\n",
       "      <th>...</th>\n",
       "      <td>...</td>\n",
       "    </tr>\n",
       "    <tr>\n",
       "      <th>1253</th>\n",
       "      <td>2404.610107</td>\n",
       "    </tr>\n",
       "    <tr>\n",
       "      <th>1254</th>\n",
       "      <td>2451.760010</td>\n",
       "    </tr>\n",
       "    <tr>\n",
       "      <th>1255</th>\n",
       "      <td>2466.090088</td>\n",
       "    </tr>\n",
       "    <tr>\n",
       "      <th>1256</th>\n",
       "      <td>2482.850098</td>\n",
       "    </tr>\n",
       "    <tr>\n",
       "      <th>1257</th>\n",
       "      <td>2491.399902</td>\n",
       "    </tr>\n",
       "  </tbody>\n",
       "</table>\n",
       "<p>1258 rows × 1 columns</p>\n",
       "</div>"
      ],
      "text/plain": [
       "            Close\n",
       "0      719.409973\n",
       "1      718.359985\n",
       "2      718.270020\n",
       "3      718.919983\n",
       "4      710.359985\n",
       "...           ...\n",
       "1253  2404.610107\n",
       "1254  2451.760010\n",
       "1255  2466.090088\n",
       "1256  2482.850098\n",
       "1257  2491.399902\n",
       "\n",
       "[1258 rows x 1 columns]"
      ]
     },
     "execution_count": 8,
     "metadata": {},
     "output_type": "execute_result"
    }
   ],
   "source": [
    "df_close = pd.DataFrame(df_close)\n",
    "df_close"
   ]
  },
  {
   "cell_type": "markdown",
   "id": "c4876633",
   "metadata": {},
   "source": [
    "#### 4. Scaling values using minmax scaler"
   ]
  },
  {
   "cell_type": "code",
   "execution_count": 9,
   "id": "dba0a465",
   "metadata": {},
   "outputs": [
    {
     "data": {
      "text/plain": [
       "array([[0.02805597],\n",
       "       [0.02748005],\n",
       "       [0.0274307 ],\n",
       "       ...,\n",
       "       [0.98611746],\n",
       "       [0.9953104 ],\n",
       "       [1.        ]])"
      ]
     },
     "execution_count": 9,
     "metadata": {},
     "output_type": "execute_result"
    }
   ],
   "source": [
    "scaler = MinMaxScaler()\n",
    "df_close_scaled = scaler.fit_transform(df_close)\n",
    "df_close_scaled"
   ]
  },
  {
   "cell_type": "code",
   "execution_count": 10,
   "id": "7c247502",
   "metadata": {
    "scrolled": true
   },
   "outputs": [
    {
     "data": {
      "text/plain": [
       "(1258, 1)"
      ]
     },
     "execution_count": 10,
     "metadata": {},
     "output_type": "execute_result"
    }
   ],
   "source": [
    "df_close_scaled.shape"
   ]
  },
  {
   "cell_type": "markdown",
   "id": "07bc527a",
   "metadata": {},
   "source": [
    "#### Creating x_train and y_train and converting into numpy array"
   ]
  },
  {
   "cell_type": "code",
   "execution_count": 11,
   "id": "ea72764f",
   "metadata": {},
   "outputs": [],
   "source": [
    "x_train = []\n",
    "y_train = []\n",
    "for i in range(30,1258):\n",
    "    x_train.append(df_close_scaled[i-30:i,0])\n",
    "    y_train.append(df_close_scaled[i,0])\n",
    "x_train,y_train = np.array(x_train),np.array(y_train)"
   ]
  },
  {
   "cell_type": "code",
   "execution_count": 12,
   "id": "43ad4dd0",
   "metadata": {},
   "outputs": [
    {
     "data": {
      "text/plain": [
       "(1228, 30)"
      ]
     },
     "execution_count": 12,
     "metadata": {},
     "output_type": "execute_result"
    }
   ],
   "source": [
    "x_train.shape"
   ]
  },
  {
   "cell_type": "code",
   "execution_count": 13,
   "id": "feafac85",
   "metadata": {},
   "outputs": [
    {
     "data": {
      "text/plain": [
       "(1228,)"
      ]
     },
     "execution_count": 13,
     "metadata": {},
     "output_type": "execute_result"
    }
   ],
   "source": [
    "y_train.shape"
   ]
  },
  {
   "cell_type": "markdown",
   "id": "03d8a92d",
   "metadata": {},
   "source": [
    "#### Reshaping the x_train"
   ]
  },
  {
   "cell_type": "code",
   "execution_count": 14,
   "id": "13299d59",
   "metadata": {},
   "outputs": [
    {
     "data": {
      "text/plain": [
       "(1228, 30, 1)"
      ]
     },
     "execution_count": 14,
     "metadata": {},
     "output_type": "execute_result"
    }
   ],
   "source": [
    "x_train = np.reshape(x_train,(x_train.shape[0],x_train.shape[1],1))\n",
    "x_train.shape"
   ]
  },
  {
   "cell_type": "markdown",
   "id": "b2a6fdea",
   "metadata": {},
   "source": [
    "#### Creating and compiling LSTM model"
   ]
  },
  {
   "cell_type": "code",
   "execution_count": 15,
   "id": "2a54ab9c",
   "metadata": {},
   "outputs": [],
   "source": [
    "model = Sequential()\n",
    "model.add(LSTM(units=400,return_sequences=True,input_shape = (x_train.shape[1],1)))\n",
    "model.add(LSTM(units=300,return_sequences=True))\n",
    "model.add(LSTM(units=150,return_sequences=True))\n",
    "model.add(LSTM(units=100,return_sequences=False))\n",
    "model.add(Dense(units=1))\n",
    "\n",
    "model.compile(optimizer='adam',loss='mean_squared_error')"
   ]
  },
  {
   "cell_type": "markdown",
   "id": "bf3bf40c",
   "metadata": {},
   "source": [
    "#### Fitting data into the model"
   ]
  },
  {
   "cell_type": "code",
   "execution_count": 16,
   "id": "22c7c0bf",
   "metadata": {
    "scrolled": false
   },
   "outputs": [
    {
     "name": "stdout",
     "output_type": "stream",
     "text": [
      "Epoch 1/50\n",
      "39/39 [==============================] - 19s 324ms/step - loss: 0.0251\n",
      "Epoch 2/50\n",
      "39/39 [==============================] - 13s 344ms/step - loss: 0.0016\n",
      "Epoch 3/50\n",
      "39/39 [==============================] - 20s 511ms/step - loss: 0.0014\n",
      "Epoch 4/50\n",
      "39/39 [==============================] - 20s 502ms/step - loss: 0.0012\n",
      "Epoch 5/50\n",
      "39/39 [==============================] - 19s 476ms/step - loss: 0.0011\n",
      "Epoch 6/50\n",
      "39/39 [==============================] - 18s 470ms/step - loss: 0.0010\n",
      "Epoch 7/50\n",
      "39/39 [==============================] - 17s 431ms/step - loss: 0.0011\n",
      "Epoch 8/50\n",
      "39/39 [==============================] - 14s 349ms/step - loss: 0.0011\n",
      "Epoch 9/50\n",
      "39/39 [==============================] - 16s 412ms/step - loss: 0.0011\n",
      "Epoch 10/50\n",
      "39/39 [==============================] - 16s 406ms/step - loss: 8.7816e-04\n",
      "Epoch 11/50\n",
      "39/39 [==============================] - 14s 347ms/step - loss: 0.0010\n",
      "Epoch 12/50\n",
      "39/39 [==============================] - 14s 361ms/step - loss: 7.6819e-04\n",
      "Epoch 13/50\n",
      "39/39 [==============================] - 14s 352ms/step - loss: 8.0382e-04\n",
      "Epoch 14/50\n",
      "39/39 [==============================] - 14s 345ms/step - loss: 7.1474e-04\n",
      "Epoch 15/50\n",
      "39/39 [==============================] - 14s 350ms/step - loss: 8.2283e-04\n",
      "Epoch 16/50\n",
      "39/39 [==============================] - 13s 345ms/step - loss: 7.5912e-04\n",
      "Epoch 17/50\n",
      "39/39 [==============================] - 13s 340ms/step - loss: 6.2822e-04\n",
      "Epoch 18/50\n",
      "39/39 [==============================] - 13s 341ms/step - loss: 7.8497e-04\n",
      "Epoch 19/50\n",
      "39/39 [==============================] - 13s 343ms/step - loss: 7.1320e-04\n",
      "Epoch 20/50\n",
      "39/39 [==============================] - 13s 339ms/step - loss: 6.0468e-04\n",
      "Epoch 21/50\n",
      "39/39 [==============================] - 13s 339ms/step - loss: 5.3715e-04\n",
      "Epoch 22/50\n",
      "39/39 [==============================] - 13s 345ms/step - loss: 6.1909e-04\n",
      "Epoch 23/50\n",
      "39/39 [==============================] - 13s 343ms/step - loss: 5.3198e-04\n",
      "Epoch 24/50\n",
      "39/39 [==============================] - 13s 342ms/step - loss: 8.3040e-04\n",
      "Epoch 25/50\n",
      "39/39 [==============================] - 17s 449ms/step - loss: 7.1219e-04\n",
      "Epoch 26/50\n",
      "39/39 [==============================] - 16s 417ms/step - loss: 4.6140e-04\n",
      "Epoch 27/50\n",
      "39/39 [==============================] - 15s 384ms/step - loss: 4.4569e-04\n",
      "Epoch 28/50\n",
      "39/39 [==============================] - 20s 512ms/step - loss: 6.2567e-04\n",
      "Epoch 29/50\n",
      "39/39 [==============================] - 21s 529ms/step - loss: 6.1829e-04\n",
      "Epoch 30/50\n",
      "39/39 [==============================] - 17s 437ms/step - loss: 6.1341e-04\n",
      "Epoch 31/50\n",
      "39/39 [==============================] - 16s 399ms/step - loss: 5.4475e-04\n",
      "Epoch 32/50\n",
      "39/39 [==============================] - 19s 494ms/step - loss: 4.1617e-04\n",
      "Epoch 33/50\n",
      "39/39 [==============================] - 21s 543ms/step - loss: 4.0090e-04\n",
      "Epoch 34/50\n",
      "39/39 [==============================] - 18s 460ms/step - loss: 3.9525e-04\n",
      "Epoch 35/50\n",
      "39/39 [==============================] - 20s 512ms/step - loss: 3.8492e-04\n",
      "Epoch 36/50\n",
      "39/39 [==============================] - 15s 378ms/step - loss: 3.6594e-04\n",
      "Epoch 37/50\n",
      "39/39 [==============================] - 14s 356ms/step - loss: 3.9640e-04\n",
      "Epoch 38/50\n",
      "39/39 [==============================] - 13s 344ms/step - loss: 4.2596e-04\n",
      "Epoch 39/50\n",
      "39/39 [==============================] - 13s 341ms/step - loss: 4.0123e-04\n",
      "Epoch 40/50\n",
      "39/39 [==============================] - 15s 385ms/step - loss: 3.9335e-04\n",
      "Epoch 41/50\n",
      "39/39 [==============================] - 16s 407ms/step - loss: 7.5707e-04\n",
      "Epoch 42/50\n",
      "39/39 [==============================] - 14s 357ms/step - loss: 5.3509e-04\n",
      "Epoch 43/50\n",
      "39/39 [==============================] - 14s 348ms/step - loss: 3.1445e-04\n",
      "Epoch 44/50\n",
      "39/39 [==============================] - 15s 386ms/step - loss: 2.9893e-04\n",
      "Epoch 45/50\n",
      "39/39 [==============================] - 14s 362ms/step - loss: 3.5154e-04\n",
      "Epoch 46/50\n",
      "39/39 [==============================] - 16s 416ms/step - loss: 2.9954e-04\n",
      "Epoch 47/50\n",
      "39/39 [==============================] - 15s 390ms/step - loss: 2.6417e-04\n",
      "Epoch 48/50\n",
      "39/39 [==============================] - 20s 520ms/step - loss: 3.1114e-04\n",
      "Epoch 49/50\n",
      "39/39 [==============================] - 16s 404ms/step - loss: 2.6464e-04\n",
      "Epoch 50/50\n",
      "39/39 [==============================] - 14s 355ms/step - loss: 2.2541e-04\n"
     ]
    }
   ],
   "source": [
    "hist = model.fit(x_train,y_train, epochs=50, batch_size = 32, verbose=1)"
   ]
  },
  {
   "cell_type": "markdown",
   "id": "76abe10a",
   "metadata": {},
   "source": [
    "#### Plotting loss for each epochs"
   ]
  },
  {
   "cell_type": "code",
   "execution_count": 17,
   "id": "89b2e575",
   "metadata": {
    "scrolled": false
   },
   "outputs": [
    {
     "data": {
      "image/png": "[encoded data removed]",
      "text/plain": [
       "<Figure size 432x288 with 1 Axes>"
      ]
     },
     "metadata": {
      "needs_background": "light"
     },
     "output_type": "display_data"
    }
   ],
   "source": [
    "plt.plot(hist.history['loss'])\n",
    "plt.title('Training model loss')\n",
    "plt.xlabel('Epochs')\n",
    "plt.ylabel('Loss')\n",
    "plt.legend(['Train'],loc = 'upper right')\n",
    "plt.show()"
   ]
  },
  {
   "cell_type": "markdown",
   "id": "93186ea4",
   "metadata": {},
   "source": [
    "#### Loading test data"
   ]
  },
  {
   "cell_type": "code",
   "execution_count": 18,
   "id": "d67af76d",
   "metadata": {},
   "outputs": [],
   "source": [
    "testdata=pd.read_csv(\"GOOG_test.csv\")\n",
    "testdata['Close']=pd.to_numeric(testdata.Close,errors='coerce')\n",
    "testdata = testdata.dropna()\n",
    "testdata = testdata.iloc[:,4:5]\n",
    "y_test = testdata.iloc[30:,0:].values"
   ]
  },
  {
   "cell_type": "markdown",
   "id": "bb2d710a",
   "metadata": {},
   "source": [
    "#### 'Close' column as our test data"
   ]
  },
  {
   "cell_type": "code",
   "execution_count": 19,
   "id": "fbac6512",
   "metadata": {
    "scrolled": true
   },
   "outputs": [
    {
     "data": {
      "text/plain": [
       "0      2521.600098\n",
       "1      2513.929932\n",
       "2      2527.040039\n",
       "3      2520.659912\n",
       "4      2513.929932\n",
       "          ...     \n",
       "248    2291.280029\n",
       "249    2340.209961\n",
       "250    2344.590088\n",
       "251    2344.760010\n",
       "252    2298.360107\n",
       "Name: Close, Length: 253, dtype: float64"
      ]
     },
     "execution_count": 19,
     "metadata": {},
     "output_type": "execute_result"
    }
   ],
   "source": [
    "testdata['Close']"
   ]
  },
  {
   "cell_type": "code",
   "execution_count": 20,
   "id": "61b5e50d",
   "metadata": {},
   "outputs": [
    {
     "data": {
      "text/plain": [
       "(253, 1)"
      ]
     },
     "execution_count": 20,
     "metadata": {},
     "output_type": "execute_result"
    }
   ],
   "source": [
    "testdata.shape"
   ]
  },
  {
   "cell_type": "code",
   "execution_count": 21,
   "id": "b8ea0ca5",
   "metadata": {
    "scrolled": true
   },
   "outputs": [
    {
     "data": {
      "text/plain": [
       "(array([[2756.320068],\n",
       "        [2792.889893],\n",
       "        [2735.929932],\n",
       "        [2727.629883],\n",
       "        [2730.810059],\n",
       "        [2704.419922],\n",
       "        [2719.790039],\n",
       "        [2725.600098],\n",
       "        [2720.570068],\n",
       "        [2738.800049],\n",
       "        [2740.719971],\n",
       "        [2760.040039],\n",
       "        [2761.929932],\n",
       "        [2753.790039],\n",
       "        [2767.790039],\n",
       "        [2768.120117],\n",
       "        [2778.320068],\n",
       "        [2746.01001 ],\n",
       "        [2731.399902],\n",
       "        [2738.27002 ],\n",
       "        [2768.73999 ],\n",
       "        [2821.98999 ],\n",
       "        [2847.969971],\n",
       "        [2859.      ],\n",
       "        [2842.459961],\n",
       "        [2891.01001 ],\n",
       "        [2909.389893],\n",
       "        [2909.23999 ],\n",
       "        [2916.840088],\n",
       "        [2884.379883],\n",
       "        [2895.5     ],\n",
       "        [2910.379883],\n",
       "        [2897.669922],\n",
       "        [2898.27002 ],\n",
       "        [2838.419922],\n",
       "        [2869.300049],\n",
       "        [2868.120117],\n",
       "        [2904.120117],\n",
       "        [2887.469971],\n",
       "        [2829.27002 ],\n",
       "        [2780.340088],\n",
       "        [2792.929932],\n",
       "        [2818.77002 ],\n",
       "        [2836.530029],\n",
       "        [2852.659912],\n",
       "        [2830.02002 ],\n",
       "        [2723.679932],\n",
       "        [2690.419922],\n",
       "        [2665.310059],\n",
       "        [2729.25    ],\n",
       "        [2675.300049],\n",
       "        [2723.540039],\n",
       "        [2747.080078],\n",
       "        [2783.709961],\n",
       "        [2801.120117],\n",
       "        [2776.949951],\n",
       "        [2734.26001 ],\n",
       "        [2758.      ],\n",
       "        [2828.23999 ],\n",
       "        [2833.5     ],\n",
       "        [2859.209961],\n",
       "        [2876.439941],\n",
       "        [2848.300049],\n",
       "        [2855.610107],\n",
       "        [2772.5     ],\n",
       "        [2775.459961],\n",
       "        [2793.439941],\n",
       "        [2928.550049],\n",
       "        [2922.580078],\n",
       "        [2965.409912],\n",
       "        [2875.47998 ],\n",
       "        [2917.26001 ],\n",
       "        [2935.800049],\n",
       "        [2973.659912],\n",
       "        [2984.820068],\n",
       "        [2987.030029],\n",
       "        [2984.969971],\n",
       "        [2932.52002 ],\n",
       "        [2934.959961],\n",
       "        [2992.909912],\n",
       "        [2987.76001 ],\n",
       "        [2981.52002 ],\n",
       "        [2981.23999 ],\n",
       "        [3014.179932],\n",
       "        [2999.050049],\n",
       "        [2941.570068],\n",
       "        [2935.139893],\n",
       "        [2934.350098],\n",
       "        [2856.120117],\n",
       "        [2922.280029],\n",
       "        [2849.040039],\n",
       "        [2832.360107],\n",
       "        [2875.530029],\n",
       "        [2850.409912],\n",
       "        [2875.929932],\n",
       "        [2960.72998 ],\n",
       "        [2974.409912],\n",
       "        [2962.120117],\n",
       "        [2973.5     ],\n",
       "        [2934.090088],\n",
       "        [2899.409912],\n",
       "        [2947.370117],\n",
       "        [2896.77002 ],\n",
       "        [2856.060059],\n",
       "        [2848.030029],\n",
       "        [2884.409912],\n",
       "        [2938.97998 ],\n",
       "        [2942.850098],\n",
       "        [2961.280029],\n",
       "        [2928.959961],\n",
       "        [2930.090088],\n",
       "        [2920.050049],\n",
       "        [2893.590088],\n",
       "        [2901.48999 ],\n",
       "        [2888.330078],\n",
       "        [2753.070068],\n",
       "        [2751.02002 ],\n",
       "        [2740.090088],\n",
       "        [2771.47998 ],\n",
       "        [2800.350098],\n",
       "        [2832.959961],\n",
       "        [2782.620117],\n",
       "        [2795.72998 ],\n",
       "        [2725.810059],\n",
       "        [2713.040039],\n",
       "        [2670.129883],\n",
       "        [2601.840088],\n",
       "        [2607.439941],\n",
       "        [2534.709961],\n",
       "        [2584.800049],\n",
       "        [2582.419922],\n",
       "        [2665.790039],\n",
       "        [2713.969971],\n",
       "        [2757.570068],\n",
       "        [2960.72998 ],\n",
       "        [2853.01001 ],\n",
       "        [2860.320068],\n",
       "        [2778.76001 ],\n",
       "        [2784.26001 ],\n",
       "        [2829.060059],\n",
       "        [2772.050049],\n",
       "        [2682.600098],\n",
       "        [2706.      ],\n",
       "        [2728.51001 ],\n",
       "        [2749.75    ],\n",
       "        [2646.169922],\n",
       "        [2609.350098],\n",
       "        [2588.050049],\n",
       "        [2551.699951],\n",
       "        [2653.469971],\n",
       "        [2690.389893],\n",
       "        [2697.820068],\n",
       "        [2683.360107],\n",
       "        [2695.030029],\n",
       "        [2686.159912],\n",
       "        [2642.439941],\n",
       "        [2529.290039],\n",
       "        [2545.570068],\n",
       "        [2677.320068],\n",
       "        [2653.639893],\n",
       "        [2609.51001 ],\n",
       "        [2534.820068],\n",
       "        [2593.209961],\n",
       "        [2673.810059],\n",
       "        [2692.01001 ],\n",
       "        [2736.030029],\n",
       "        [2729.570068],\n",
       "        [2805.550049],\n",
       "        [2770.070068],\n",
       "        [2826.23999 ],\n",
       "        [2830.429932],\n",
       "        [2839.      ],\n",
       "        [2865.      ],\n",
       "        [2852.889893],\n",
       "        [2792.98999 ],\n",
       "        [2814.      ],\n",
       "        [2872.850098],\n",
       "        [2821.26001 ],\n",
       "        [2743.52002 ],\n",
       "        [2729.300049],\n",
       "        [2680.209961],\n",
       "        [2595.929932],\n",
       "        [2567.48999 ],\n",
       "        [2605.719971],\n",
       "        [2545.060059],\n",
       "        [2559.219971],\n",
       "        [2610.620117],\n",
       "        [2564.909912],\n",
       "        [2498.75    ],\n",
       "        [2392.280029],\n",
       "        [2465.      ],\n",
       "        [2390.120117],\n",
       "        [2300.409912],\n",
       "        [2388.22998 ],\n",
       "        [2299.330078],\n",
       "        [2343.139893],\n",
       "        [2362.590088],\n",
       "        [2451.5     ],\n",
       "        [2334.929932],\n",
       "        [2313.199951],\n",
       "        [2261.679932],\n",
       "        [2291.689941],\n",
       "        [2279.219971],\n",
       "        [2263.219971],\n",
       "        [2330.310059],\n",
       "        [2295.850098],\n",
       "        [2334.030029],\n",
       "        [2248.02002 ],\n",
       "        [2214.909912],\n",
       "        [2186.26001 ],\n",
       "        [2233.330078],\n",
       "        [2118.52002 ],\n",
       "        [2116.790039],\n",
       "        [2165.919922],\n",
       "        [2255.97998 ],\n",
       "        [2280.780029],\n",
       "        [2282.73999 ],\n",
       "        [2354.919922],\n",
       "        [2291.280029],\n",
       "        [2340.209961],\n",
       "        [2344.590088],\n",
       "        [2344.76001 ],\n",
       "        [2298.360107]]),\n",
       " (223, 1))"
      ]
     },
     "execution_count": 21,
     "metadata": {},
     "output_type": "execute_result"
    }
   ],
   "source": [
    "y_test , y_test.shape"
   ]
  },
  {
   "cell_type": "markdown",
   "id": "4d6be0f5",
   "metadata": {},
   "source": [
    "#### Scaling the test data"
   ]
  },
  {
   "cell_type": "code",
   "execution_count": 22,
   "id": "f7150086",
   "metadata": {},
   "outputs": [
    {
     "data": {
      "text/plain": [
       "array([[1.01656494],\n",
       "       [1.01235782],\n",
       "       [1.01954877],\n",
       "       [1.01604924],\n",
       "       [1.01235782],\n",
       "       [1.01975713],\n",
       "       [1.01094277],\n",
       "       [1.02067872],\n",
       "       [1.02665187],\n",
       "       [1.02074996],\n",
       "       [1.02975087],\n",
       "       [1.02660246],\n",
       "       [1.0246772 ],\n",
       "       [1.01589029],\n",
       "       [1.00818377],\n",
       "       [1.01972982],\n",
       "       [1.04551487],\n",
       "       [1.05705542],\n",
       "       [1.06041783],\n",
       "       [1.05053926],\n",
       "       [1.05489984],\n",
       "       [1.06575476],\n",
       "       [1.07047731],\n",
       "       [1.08241277],\n",
       "       [1.07346127],\n",
       "       [1.07981286],\n",
       "       [1.05138398],\n",
       "       [1.07165118],\n",
       "       [1.08809533],\n",
       "       [1.09608158],\n",
       "       [1.14530984],\n",
       "       [1.16536854],\n",
       "       [1.13412576],\n",
       "       [1.12957315],\n",
       "       [1.13131749],\n",
       "       [1.11684239],\n",
       "       [1.12527296],\n",
       "       [1.12845981],\n",
       "       [1.12570081],\n",
       "       [1.13570003],\n",
       "       [1.13675312],\n",
       "       [1.14735026],\n",
       "       [1.14838687],\n",
       "       [1.14392211],\n",
       "       [1.15160117],\n",
       "       [1.15178222],\n",
       "       [1.15737693],\n",
       "       [1.13965473],\n",
       "       [1.13164102],\n",
       "       [1.13540931],\n",
       "       [1.15212222],\n",
       "       [1.18133007],\n",
       "       [1.1955802 ],\n",
       "       [1.20163022],\n",
       "       [1.19255794],\n",
       "       [1.21918785],\n",
       "       [1.22926929],\n",
       "       [1.22918707],\n",
       "       [1.23335576],\n",
       "       [1.21555119],\n",
       "       [1.22165063],\n",
       "       [1.22981231],\n",
       "       [1.22284084],\n",
       "       [1.22316999],\n",
       "       [1.19034196],\n",
       "       [1.20727984],\n",
       "       [1.20663264],\n",
       "       [1.2263788 ],\n",
       "       [1.21724612],\n",
       "       [1.1853232 ],\n",
       "       [1.15848492],\n",
       "       [1.16539051],\n",
       "       [1.1795639 ],\n",
       "       [1.18930535],\n",
       "       [1.19815265],\n",
       "       [1.18573458],\n",
       "       [1.12740659],\n",
       "       [1.10916333],\n",
       "       [1.09539046],\n",
       "       [1.13046179],\n",
       "       [1.10087001],\n",
       "       [1.12732985],\n",
       "       [1.14024167],\n",
       "       [1.16033331],\n",
       "       [1.16988286],\n",
       "       [1.15662542],\n",
       "       [1.1332098 ],\n",
       "       [1.14623129],\n",
       "       [1.18475822],\n",
       "       [1.18764336],\n",
       "       [1.20174538],\n",
       "       [1.2111961 ],\n",
       "       [1.19576125],\n",
       "       [1.19977085],\n",
       "       [1.1541846 ],\n",
       "       [1.15580815],\n",
       "       [1.16567025],\n",
       "       [1.23977872],\n",
       "       [1.23650416],\n",
       "       [1.25999651],\n",
       "       [1.21066956],\n",
       "       [1.23358608],\n",
       "       [1.24375537],\n",
       "       [1.26452167],\n",
       "       [1.27064306],\n",
       "       [1.27185524],\n",
       "       [1.27072529],\n",
       "       [1.24195626],\n",
       "       [1.24329458],\n",
       "       [1.27508038],\n",
       "       [1.27225563],\n",
       "       [1.26883297],\n",
       "       [1.26867938],\n",
       "       [1.28674707],\n",
       "       [1.27844827],\n",
       "       [1.24692025],\n",
       "       [1.24339328],\n",
       "       [1.24296007],\n",
       "       [1.20005059],\n",
       "       [1.23633959],\n",
       "       [1.19616714],\n",
       "       [1.18701813],\n",
       "       [1.21069701],\n",
       "       [1.19691852],\n",
       "       [1.21091636],\n",
       "       [1.25742955],\n",
       "       [1.26493305],\n",
       "       [1.25819204],\n",
       "       [1.26443396],\n",
       "       [1.24281745],\n",
       "       [1.22379523],\n",
       "       [1.25010161],\n",
       "       [1.22234724],\n",
       "       [1.20001765],\n",
       "       [1.19561314],\n",
       "       [1.21556767],\n",
       "       [1.24549958],\n",
       "       [1.24762236],\n",
       "       [1.25773125],\n",
       "       [1.24000356],\n",
       "       [1.24062344],\n",
       "       [1.23511643],\n",
       "       [1.22060303],\n",
       "       [1.22493616],\n",
       "       [1.21771789],\n",
       "       [1.1435272 ],\n",
       "       [1.14240274],\n",
       "       [1.13640763],\n",
       "       [1.15362512],\n",
       "       [1.1694605 ],\n",
       "       [1.18734715],\n",
       "       [1.15973553],\n",
       "       [1.16692634],\n",
       "       [1.12857497],\n",
       "       [1.12157056],\n",
       "       [1.09803416],\n",
       "       [1.06057691],\n",
       "       [1.06364846],\n",
       "       [1.02375575],\n",
       "       [1.05123038],\n",
       "       [1.04992487],\n",
       "       [1.09565373],\n",
       "       [1.12208063],\n",
       "       [1.14599547],\n",
       "       [1.25742955],\n",
       "       [1.19834469],\n",
       "       [1.20235428],\n",
       "       [1.15761824],\n",
       "       [1.16063502],\n",
       "       [1.18520804],\n",
       "       [1.1539378 ],\n",
       "       [1.10487412],\n",
       "       [1.11770907],\n",
       "       [1.1300559 ],\n",
       "       [1.14170613],\n",
       "       [1.08489202],\n",
       "       [1.06469619],\n",
       "       [1.05301302],\n",
       "       [1.03307483],\n",
       "       [1.08889612],\n",
       "       [1.10914686],\n",
       "       [1.11322234],\n",
       "       [1.10529099],\n",
       "       [1.11169199],\n",
       "       [1.1068267 ],\n",
       "       [1.08284611],\n",
       "       [1.0207829 ],\n",
       "       [1.02971257],\n",
       "       [1.101978  ],\n",
       "       [1.08898933],\n",
       "       [1.0647839 ],\n",
       "       [1.02381615],\n",
       "       [1.05584325],\n",
       "       [1.10005275],\n",
       "       [1.1100355 ],\n",
       "       [1.13418067],\n",
       "       [1.13063735],\n",
       "       [1.17231269],\n",
       "       [1.15285177],\n",
       "       [1.18366122],\n",
       "       [1.18595942],\n",
       "       [1.19066014],\n",
       "       [1.20492125],\n",
       "       [1.1982788 ],\n",
       "       [1.16542345],\n",
       "       [1.17694753],\n",
       "       [1.20922706],\n",
       "       [1.18092967],\n",
       "       [1.13828896],\n",
       "       [1.13048924],\n",
       "       [1.10356312],\n",
       "       [1.05733517],\n",
       "       [1.04173574],\n",
       "       [1.06270505],\n",
       "       [1.02943282],\n",
       "       [1.0371996 ],\n",
       "       [1.0653928 ],\n",
       "       [1.04032055],\n",
       "       [1.00403156],\n",
       "       [0.94563233],\n",
       "       [0.98551954],\n",
       "       [0.94444761],\n",
       "       [0.89524118],\n",
       "       [0.94341086],\n",
       "       [0.89464888],\n",
       "       [0.91867875],\n",
       "       [0.92934727],\n",
       "       [0.97811473],\n",
       "       [0.91417555],\n",
       "       [0.90225657],\n",
       "       [0.87399762],\n",
       "       [0.89045824],\n",
       "       [0.8836184 ],\n",
       "       [0.87484234],\n",
       "       [0.91164153],\n",
       "       [0.8927401 ],\n",
       "       [0.91368195],\n",
       "       [0.8665051 ],\n",
       "       [0.84834406],\n",
       "       [0.83262947],\n",
       "       [0.8584476 ],\n",
       "       [0.7954738 ],\n",
       "       [0.79452489],\n",
       "       [0.82147284],\n",
       "       [0.87087117],\n",
       "       [0.8844741 ],\n",
       "       [0.88554915],\n",
       "       [0.92514015],\n",
       "       [0.8902334 ],\n",
       "       [0.91707167],\n",
       "       [0.91947419],\n",
       "       [0.91956739],\n",
       "       [0.89411685]])"
      ]
     },
     "execution_count": 22,
     "metadata": {},
     "output_type": "execute_result"
    }
   ],
   "source": [
    "inputClosing = testdata\n",
    "inputClosing_scaled =scaler.transform(testdata)\n",
    "inputClosing_scaled.shape\n",
    "inputClosing_scaled"
   ]
  },
  {
   "cell_type": "code",
   "execution_count": 23,
   "id": "b5910f00",
   "metadata": {
    "scrolled": true
   },
   "outputs": [
    {
     "data": {
      "text/plain": [
       "(numpy.ndarray, (253, 1))"
      ]
     },
     "execution_count": 23,
     "metadata": {},
     "output_type": "execute_result"
    }
   ],
   "source": [
    "type(inputClosing_scaled) , inputClosing_scaled.shape"
   ]
  },
  {
   "cell_type": "markdown",
   "id": "211901b5",
   "metadata": {},
   "source": [
    "#### Reshaping the data as mentioned above"
   ]
  },
  {
   "cell_type": "code",
   "execution_count": 24,
   "id": "f417b240",
   "metadata": {
    "scrolled": true
   },
   "outputs": [
    {
     "data": {
      "text/plain": [
       "(223, 30, 1)"
      ]
     },
     "execution_count": 24,
     "metadata": {},
     "output_type": "execute_result"
    }
   ],
   "source": [
    "x_test = []\n",
    "length = len(testdata)\n",
    "timestep = 30\n",
    "\n",
    "\n",
    "for i in range (timestep,length):\n",
    "  x_test.append(inputClosing_scaled[i-timestep:i,0])\n",
    "\n",
    "x_test = np.array(x_test)\n",
    "x_test = np.reshape(x_test,(x_test.shape[0],x_test.shape[1],1))\n",
    "x_test.shape"
   ]
  },
  {
   "cell_type": "markdown",
   "id": "978f33ed",
   "metadata": {},
   "source": [
    "#### Predicting the values"
   ]
  },
  {
   "cell_type": "code",
   "execution_count": 25,
   "id": "6919f814",
   "metadata": {},
   "outputs": [
    {
     "name": "stdout",
     "output_type": "stream",
     "text": [
      "7/7 [==============================] - 4s 124ms/step\n"
     ]
    }
   ],
   "source": [
    "y_predict = model.predict(x_test)"
   ]
  },
  {
   "cell_type": "markdown",
   "id": "4a50c272",
   "metadata": {},
   "source": [
    "#### Using inverse transform on predicted values"
   ]
  },
  {
   "cell_type": "code",
   "execution_count": 26,
   "id": "c2c262d8",
   "metadata": {},
   "outputs": [],
   "source": [
    "predicted_price = scaler.inverse_transform(y_predict)"
   ]
  },
  {
   "cell_type": "markdown",
   "id": "1c3d92ee",
   "metadata": {},
   "source": [
    "#### Plotting actual and predicted values on graph"
   ]
  },
  {
   "cell_type": "code",
   "execution_count": 27,
   "id": "f16e16c9",
   "metadata": {
    "scrolled": false
   },
   "outputs": [
    {
     "data": {
      "image/png": "[encoded data removed]",
      "text/plain": [
       "<Figure size 1440x720 with 1 Axes>"
      ]
     },
     "metadata": {
      "needs_background": "dark"
     },
     "output_type": "display_data"
    }
   ],
   "source": [
    "plt.figure(figsize=(20, 10))\n",
    "plt.style.use(\"dark_background\")\n",
    "plt.plot(np.arange(len(df.Close)),df.Close)\n",
    "plt.plot(np.arange(len(df.Close),len(df.Close)+len(testdata.Close)),testdata.Close,color='red',label= 'Actual')\n",
    "plt.plot(np.arange(len(df.Close)+30,len(df.Close)+len(testdata.Close)),predicted_price,color = 'green',label='Predicted')\n",
    "plt.title('Google Stock Price Prediction')\n",
    "plt.xlabel('Time')\n",
    "plt.ylabel('Google Stock Price')\n",
    "plt.legend()\n",
    "plt.grid()\n",
    "plt.show()"
   ]
  },
  {
   "cell_type": "markdown",
   "id": "6a33512e",
   "metadata": {},
   "source": [
    "#### Root mean square error"
   ]
  },
  {
   "cell_type": "code",
   "execution_count": 28,
   "id": "5edc823b",
   "metadata": {},
   "outputs": [
    {
     "name": "stdout",
     "output_type": "stream",
     "text": [
      "Mean squared error is 55.509348315205415\n",
      "R2 score is 93.1 %\n"
     ]
    }
   ],
   "source": [
    "print('Mean squared error is',np.sqrt(mean_squared_error(y_test, predicted_price))), r2_score(y_test, predicted_price)\n",
    "print('R2 score is',round(r2_score(y_test,predicted_price)*100,1),'%')"
   ]
  },
  {
   "cell_type": "markdown",
   "id": "1af9e0af",
   "metadata": {},
   "source": [
    "#### Future stock predictions"
   ]
  },
  {
   "cell_type": "code",
   "execution_count": 29,
   "id": "f0263d87",
   "metadata": {},
   "outputs": [
    {
     "name": "stdout",
     "output_type": "stream",
     "text": [
      "1/1 [==============================] - 0s 24ms/step\n"
     ]
    },
    {
     "data": {
      "text/plain": [
       "array([[0.89954704]], dtype=float32)"
      ]
     },
     "execution_count": 29,
     "metadata": {},
     "output_type": "execute_result"
    }
   ],
   "source": [
    "last_train_batch = inputClosing_scaled[-30:]\n",
    "last_train_batch = last_train_batch.reshape((1, 30, 1))\n",
    "model.predict(last_train_batch)"
   ]
  },
  {
   "cell_type": "code",
   "execution_count": 30,
   "id": "d701a985",
   "metadata": {},
   "outputs": [
    {
     "name": "stdout",
     "output_type": "stream",
     "text": [
      "1/1 [==============================] - 0s 30ms/step\n",
      "1/1 [==============================] - 0s 25ms/step\n",
      "1/1 [==============================] - 0s 25ms/step\n",
      "1/1 [==============================] - 0s 24ms/step\n",
      "1/1 [==============================] - 0s 24ms/step\n",
      "1/1 [==============================] - 0s 28ms/step\n",
      "1/1 [==============================] - 0s 27ms/step\n",
      "1/1 [==============================] - 0s 27ms/step\n",
      "1/1 [==============================] - 0s 36ms/step\n",
      "1/1 [==============================] - 0s 25ms/step\n",
      "1/1 [==============================] - 0s 25ms/step\n",
      "1/1 [==============================] - 0s 30ms/step\n",
      "1/1 [==============================] - 0s 26ms/step\n",
      "1/1 [==============================] - 0s 28ms/step\n",
      "1/1 [==============================] - 0s 27ms/step\n",
      "1/1 [==============================] - 0s 30ms/step\n",
      "1/1 [==============================] - 0s 23ms/step\n",
      "1/1 [==============================] - 0s 27ms/step\n",
      "1/1 [==============================] - 0s 27ms/step\n",
      "1/1 [==============================] - 0s 25ms/step\n",
      "1/1 [==============================] - 0s 25ms/step\n",
      "1/1 [==============================] - 0s 26ms/step\n",
      "1/1 [==============================] - 0s 28ms/step\n",
      "1/1 [==============================] - 0s 29ms/step\n",
      "1/1 [==============================] - 0s 28ms/step\n",
      "1/1 [==============================] - 0s 26ms/step\n",
      "1/1 [==============================] - 0s 20ms/step\n",
      "1/1 [==============================] - 0s 15ms/step\n",
      "1/1 [==============================] - 0s 29ms/step\n",
      "1/1 [==============================] - 0s 25ms/step\n"
     ]
    }
   ],
   "source": [
    "test_predictions = []\n",
    "\n",
    "first_eval_batch = inputClosing_scaled[-30:]\n",
    "current_batch = first_eval_batch.reshape((1, 30, 1))\n",
    "\n",
    "for i in range(30):\n",
    "    current_pred = model.predict(current_batch)[0]\n",
    "    test_predictions.append(current_pred) \n",
    "    current_batch = np.append(current_batch[:,1:,:],[[current_pred]],axis=1)"
   ]
  },
  {
   "cell_type": "code",
   "execution_count": 31,
   "id": "11628e49",
   "metadata": {},
   "outputs": [
    {
     "data": {
      "text/plain": [
       "(30, 1)"
      ]
     },
     "execution_count": 31,
     "metadata": {},
     "output_type": "execute_result"
    }
   ],
   "source": [
    "true_predictions = scaler.inverse_transform(test_predictions)\n",
    "true_predictions.shape"
   ]
  },
  {
   "cell_type": "code",
   "execution_count": 32,
   "id": "1274257f",
   "metadata": {},
   "outputs": [],
   "source": [
    "import pandas as pd\n",
    "from pandas_datareader import data as web\n",
    "import plotly.graph_objects as go"
   ]
  },
  {
   "cell_type": "markdown",
   "id": "656ae820",
   "metadata": {},
   "source": [
    "#### Plotting Future stock predictions"
   ]
  },
  {
   "cell_type": "code",
   "execution_count": 33,
   "id": "7b869131",
   "metadata": {},
   "outputs": [
    {
     "data": {
      "image/png": "[encoded data removed]",
      "text/plain": [
       "<Figure size 1440x720 with 1 Axes>"
      ]
     },
     "metadata": {},
     "output_type": "display_data"
    }
   ],
   "source": [
    "plt.figure(figsize=(20, 10))\n",
    "plt.style.use(\"dark_background\")\n",
    "plt.plot(np.arange(len(df.Close)),df.Close)\n",
    "plt.plot(np.arange(len(df.Close),len(df.Close)+len(testdata.Close)),testdata.Close,color='red',label= 'Actual')\n",
    "plt.plot(np.arange(len(df.Close)+30,len(df.Close)+len(testdata.Close)),predicted_price,color = 'green',label='Predicted')\n",
    "plt.plot(np.arange(len(df.Close)+len(testdata.Close),len(df.Close)+len(testdata.Close)+30),true_predictions,color = 'c',label='True predictions')\n",
    "plt.title('Google Stock Price Prediction')\n",
    "plt.xlabel('Time',)\n",
    "plt.ylabel('Google Stock Price')\n",
    "plt.legend()\n",
    "plt.grid()\n",
    "plt.show()"
   ]
  }
 ],
 "metadata": {
  "kernelspec": {
   "display_name": "Python 3 (ipykernel)",
   "language": "python",
   "name": "python3"
  },
  "language_info": {
   "codemirror_mode": {
    "name": "ipython",
    "version": 3
   },
   "file_extension": ".py",
   "mimetype": "text/x-python",
   "name": "python",
   "nbconvert_exporter": "python",
   "pygments_lexer": "ipython3",
   "version": "3.9.7"
  }
 },
 "nbformat": 4,
 "nbformat_minor": 5
}
