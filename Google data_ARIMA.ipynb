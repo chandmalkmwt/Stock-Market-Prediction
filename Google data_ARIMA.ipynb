{
 "cells": [
  {
   "cell_type": "markdown",
   "id": "a7fa7a94",
   "metadata": {},
   "source": [
    "### ARIMA Model for Stock"
   ]
  },
  {
   "cell_type": "markdown",
   "id": "9260af37",
   "metadata": {},
   "source": [
    "#### Installing pmdarima"
   ]
  },
  {
   "cell_type": "code",
   "execution_count": 1,
   "id": "4c975754",
   "metadata": {},
   "outputs": [
    {
     "name": "stdout",
     "output_type": "stream",
     "text": [
      "Requirement already satisfied: pmdarima in c:\\users\\thean\\anaconda3\\lib\\site-packages (1.8.5)\n",
      "Requirement already satisfied: numpy>=1.19.3 in c:\\users\\thean\\anaconda3\\lib\\site-packages (from pmdarima) (1.20.3)\n",
      "Requirement already satisfied: Cython!=0.29.18,>=0.29 in c:\\users\\thean\\anaconda3\\lib\\site-packages (from pmdarima) (0.29.24)\n",
      "Requirement already satisfied: joblib>=0.11 in c:\\users\\thean\\anaconda3\\lib\\site-packages (from pmdarima) (1.1.0)\n",
      "Requirement already satisfied: pandas>=0.19 in c:\\users\\thean\\anaconda3\\lib\\site-packages (from pmdarima) (1.3.4)\n",
      "Requirement already satisfied: urllib3 in c:\\users\\thean\\anaconda3\\lib\\site-packages (from pmdarima) (1.26.7)\n",
      "Requirement already satisfied: setuptools!=50.0.0,>=38.6.0 in c:\\users\\thean\\anaconda3\\lib\\site-packages (from pmdarima) (58.0.4)\n",
      "Requirement already satisfied: scipy>=1.3.2 in c:\\users\\thean\\anaconda3\\lib\\site-packages (from pmdarima) (1.7.1)\n",
      "Requirement already satisfied: scikit-learn>=0.22 in c:\\users\\thean\\anaconda3\\lib\\site-packages (from pmdarima) (0.24.2)\n",
      "Requirement already satisfied: statsmodels!=0.12.0,>=0.11 in c:\\users\\thean\\anaconda3\\lib\\site-packages (from pmdarima) (0.12.2)\n",
      "Requirement already satisfied: pytz>=2017.3 in c:\\users\\thean\\anaconda3\\lib\\site-packages (from pandas>=0.19->pmdarima) (2021.3)\n",
      "Requirement already satisfied: python-dateutil>=2.7.3 in c:\\users\\thean\\anaconda3\\lib\\site-packages (from pandas>=0.19->pmdarima) (2.8.2)\n",
      "Requirement already satisfied: six>=1.5 in c:\\users\\thean\\anaconda3\\lib\\site-packages (from python-dateutil>=2.7.3->pandas>=0.19->pmdarima) (1.16.0)\n",
      "Requirement already satisfied: threadpoolctl>=2.0.0 in c:\\users\\thean\\anaconda3\\lib\\site-packages (from scikit-learn>=0.22->pmdarima) (2.2.0)\n",
      "Requirement already satisfied: patsy>=0.5 in c:\\users\\thean\\anaconda3\\lib\\site-packages (from statsmodels!=0.12.0,>=0.11->pmdarima) (0.5.2)\n"
     ]
    }
   ],
   "source": [
    "!pip install pmdarima"
   ]
  },
  {
   "cell_type": "code",
   "execution_count": 2,
   "id": "96093b97",
   "metadata": {},
   "outputs": [],
   "source": [
    "import numpy as np\n",
    "import pandas as pd\n",
    "import matplotlib.pyplot as plt"
   ]
  },
  {
   "cell_type": "markdown",
   "id": "5c39f83c",
   "metadata": {},
   "source": [
    "#### Read training data"
   ]
  },
  {
   "cell_type": "code",
   "execution_count": 3,
   "id": "a9e67eef",
   "metadata": {},
   "outputs": [
    {
     "data": {
      "text/html": [
       "<div>\n",
       "<style scoped>\n",
       "    .dataframe tbody tr th:only-of-type {\n",
       "        vertical-align: middle;\n",
       "    }\n",
       "\n",
       "    .dataframe tbody tr th {\n",
       "        vertical-align: top;\n",
       "    }\n",
       "\n",
       "    .dataframe thead th {\n",
       "        text-align: right;\n",
       "    }\n",
       "</style>\n",
       "<table border=\"1\" class=\"dataframe\">\n",
       "  <thead>\n",
       "    <tr style=\"text-align: right;\">\n",
       "      <th></th>\n",
       "      <th>Date</th>\n",
       "      <th>Open</th>\n",
       "      <th>High</th>\n",
       "      <th>Low</th>\n",
       "      <th>Close</th>\n",
       "      <th>Adj Close</th>\n",
       "      <th>Volume</th>\n",
       "    </tr>\n",
       "  </thead>\n",
       "  <tbody>\n",
       "    <tr>\n",
       "      <th>0</th>\n",
       "      <td>2016-06-10</td>\n",
       "      <td>719.469971</td>\n",
       "      <td>725.890015</td>\n",
       "      <td>716.429993</td>\n",
       "      <td>719.409973</td>\n",
       "      <td>719.409973</td>\n",
       "      <td>1216400</td>\n",
       "    </tr>\n",
       "    <tr>\n",
       "      <th>1</th>\n",
       "      <td>2016-06-13</td>\n",
       "      <td>716.510010</td>\n",
       "      <td>725.440002</td>\n",
       "      <td>716.510010</td>\n",
       "      <td>718.359985</td>\n",
       "      <td>718.359985</td>\n",
       "      <td>1258900</td>\n",
       "    </tr>\n",
       "    <tr>\n",
       "      <th>2</th>\n",
       "      <td>2016-06-14</td>\n",
       "      <td>716.479980</td>\n",
       "      <td>722.469971</td>\n",
       "      <td>713.119995</td>\n",
       "      <td>718.270020</td>\n",
       "      <td>718.270020</td>\n",
       "      <td>1306100</td>\n",
       "    </tr>\n",
       "    <tr>\n",
       "      <th>3</th>\n",
       "      <td>2016-06-15</td>\n",
       "      <td>719.000000</td>\n",
       "      <td>722.979980</td>\n",
       "      <td>717.309998</td>\n",
       "      <td>718.919983</td>\n",
       "      <td>718.919983</td>\n",
       "      <td>1214500</td>\n",
       "    </tr>\n",
       "    <tr>\n",
       "      <th>4</th>\n",
       "      <td>2016-06-16</td>\n",
       "      <td>714.909973</td>\n",
       "      <td>716.650024</td>\n",
       "      <td>703.260010</td>\n",
       "      <td>710.359985</td>\n",
       "      <td>710.359985</td>\n",
       "      <td>1982500</td>\n",
       "    </tr>\n",
       "    <tr>\n",
       "      <th>...</th>\n",
       "      <td>...</td>\n",
       "      <td>...</td>\n",
       "      <td>...</td>\n",
       "      <td>...</td>\n",
       "      <td>...</td>\n",
       "      <td>...</td>\n",
       "      <td>...</td>\n",
       "    </tr>\n",
       "    <tr>\n",
       "      <th>1253</th>\n",
       "      <td>2021-06-03</td>\n",
       "      <td>2395.020020</td>\n",
       "      <td>2409.745117</td>\n",
       "      <td>2382.830078</td>\n",
       "      <td>2404.610107</td>\n",
       "      <td>2404.610107</td>\n",
       "      <td>917300</td>\n",
       "    </tr>\n",
       "    <tr>\n",
       "      <th>1254</th>\n",
       "      <td>2021-06-04</td>\n",
       "      <td>2422.520020</td>\n",
       "      <td>2453.858887</td>\n",
       "      <td>2417.770020</td>\n",
       "      <td>2451.760010</td>\n",
       "      <td>2451.760010</td>\n",
       "      <td>1297400</td>\n",
       "    </tr>\n",
       "    <tr>\n",
       "      <th>1255</th>\n",
       "      <td>2021-06-07</td>\n",
       "      <td>2451.320068</td>\n",
       "      <td>2468.000000</td>\n",
       "      <td>2441.072998</td>\n",
       "      <td>2466.090088</td>\n",
       "      <td>2466.090088</td>\n",
       "      <td>1192500</td>\n",
       "    </tr>\n",
       "    <tr>\n",
       "      <th>1256</th>\n",
       "      <td>2021-06-08</td>\n",
       "      <td>2479.899902</td>\n",
       "      <td>2494.495117</td>\n",
       "      <td>2468.239990</td>\n",
       "      <td>2482.850098</td>\n",
       "      <td>2482.850098</td>\n",
       "      <td>1253000</td>\n",
       "    </tr>\n",
       "    <tr>\n",
       "      <th>1257</th>\n",
       "      <td>2021-06-09</td>\n",
       "      <td>2499.500000</td>\n",
       "      <td>2505.000000</td>\n",
       "      <td>2487.330078</td>\n",
       "      <td>2491.399902</td>\n",
       "      <td>2491.399902</td>\n",
       "      <td>1006300</td>\n",
       "    </tr>\n",
       "  </tbody>\n",
       "</table>\n",
       "<p>1258 rows × 7 columns</p>\n",
       "</div>"
      ],
      "text/plain": [
       "            Date         Open         High          Low        Close  \\\n",
       "0     2016-06-10   719.469971   725.890015   716.429993   719.409973   \n",
       "1     2016-06-13   716.510010   725.440002   716.510010   718.359985   \n",
       "2     2016-06-14   716.479980   722.469971   713.119995   718.270020   \n",
       "3     2016-06-15   719.000000   722.979980   717.309998   718.919983   \n",
       "4     2016-06-16   714.909973   716.650024   703.260010   710.359985   \n",
       "...          ...          ...          ...          ...          ...   \n",
       "1253  2021-06-03  2395.020020  2409.745117  2382.830078  2404.610107   \n",
       "1254  2021-06-04  2422.520020  2453.858887  2417.770020  2451.760010   \n",
       "1255  2021-06-07  2451.320068  2468.000000  2441.072998  2466.090088   \n",
       "1256  2021-06-08  2479.899902  2494.495117  2468.239990  2482.850098   \n",
       "1257  2021-06-09  2499.500000  2505.000000  2487.330078  2491.399902   \n",
       "\n",
       "        Adj Close   Volume  \n",
       "0      719.409973  1216400  \n",
       "1      718.359985  1258900  \n",
       "2      718.270020  1306100  \n",
       "3      718.919983  1214500  \n",
       "4      710.359985  1982500  \n",
       "...           ...      ...  \n",
       "1253  2404.610107   917300  \n",
       "1254  2451.760010  1297400  \n",
       "1255  2466.090088  1192500  \n",
       "1256  2482.850098  1253000  \n",
       "1257  2491.399902  1006300  \n",
       "\n",
       "[1258 rows x 7 columns]"
      ]
     },
     "execution_count": 3,
     "metadata": {},
     "output_type": "execute_result"
    }
   ],
   "source": [
    "train=pd.read_csv(\"GOOG_train.csv\")\n",
    "# train = train.set_index('Date')\n",
    "test=pd.read_csv(\"GOOG_test.csv\")\n",
    "# test = test.set_index('Date')\n",
    "train"
   ]
  },
  {
   "cell_type": "markdown",
   "id": "b4183c1b",
   "metadata": {},
   "source": [
    "#### Basic information of data"
   ]
  },
  {
   "cell_type": "code",
   "execution_count": 4,
   "id": "b3f64d67",
   "metadata": {},
   "outputs": [
    {
     "name": "stdout",
     "output_type": "stream",
     "text": [
      "<class 'pandas.core.frame.DataFrame'>\n",
      "RangeIndex: 1258 entries, 0 to 1257\n",
      "Data columns (total 7 columns):\n",
      " #   Column     Non-Null Count  Dtype  \n",
      "---  ------     --------------  -----  \n",
      " 0   Date       1258 non-null   object \n",
      " 1   Open       1258 non-null   float64\n",
      " 2   High       1258 non-null   float64\n",
      " 3   Low        1258 non-null   float64\n",
      " 4   Close      1258 non-null   float64\n",
      " 5   Adj Close  1258 non-null   float64\n",
      " 6   Volume     1258 non-null   int64  \n",
      "dtypes: float64(5), int64(1), object(1)\n",
      "memory usage: 68.9+ KB\n"
     ]
    }
   ],
   "source": [
    "train.info()"
   ]
  },
  {
   "cell_type": "code",
   "execution_count": 5,
   "id": "aec92fd6",
   "metadata": {},
   "outputs": [
    {
     "data": {
      "text/html": [
       "<div>\n",
       "<style scoped>\n",
       "    .dataframe tbody tr th:only-of-type {\n",
       "        vertical-align: middle;\n",
       "    }\n",
       "\n",
       "    .dataframe tbody tr th {\n",
       "        vertical-align: top;\n",
       "    }\n",
       "\n",
       "    .dataframe thead th {\n",
       "        text-align: right;\n",
       "    }\n",
       "</style>\n",
       "<table border=\"1\" class=\"dataframe\">\n",
       "  <thead>\n",
       "    <tr style=\"text-align: right;\">\n",
       "      <th></th>\n",
       "      <th>Open</th>\n",
       "      <th>High</th>\n",
       "      <th>Low</th>\n",
       "      <th>Close</th>\n",
       "      <th>Adj Close</th>\n",
       "      <th>Volume</th>\n",
       "    </tr>\n",
       "  </thead>\n",
       "  <tbody>\n",
       "    <tr>\n",
       "      <th>count</th>\n",
       "      <td>1258.000000</td>\n",
       "      <td>1258.000000</td>\n",
       "      <td>1258.000000</td>\n",
       "      <td>1258.000000</td>\n",
       "      <td>1258.000000</td>\n",
       "      <td>1.258000e+03</td>\n",
       "    </tr>\n",
       "    <tr>\n",
       "      <th>mean</th>\n",
       "      <td>1212.412150</td>\n",
       "      <td>1224.570048</td>\n",
       "      <td>1201.347431</td>\n",
       "      <td>1213.457483</td>\n",
       "      <td>1213.457483</td>\n",
       "      <td>1.610740e+06</td>\n",
       "    </tr>\n",
       "    <tr>\n",
       "      <th>std</th>\n",
       "      <td>379.454923</td>\n",
       "      <td>384.609149</td>\n",
       "      <td>375.747847</td>\n",
       "      <td>380.308660</td>\n",
       "      <td>380.308660</td>\n",
       "      <td>7.031610e+05</td>\n",
       "    </tr>\n",
       "    <tr>\n",
       "      <th>min</th>\n",
       "      <td>671.000000</td>\n",
       "      <td>672.299988</td>\n",
       "      <td>663.283997</td>\n",
       "      <td>668.260010</td>\n",
       "      <td>668.260010</td>\n",
       "      <td>3.468000e+05</td>\n",
       "    </tr>\n",
       "    <tr>\n",
       "      <th>25%</th>\n",
       "      <td>957.377518</td>\n",
       "      <td>963.404984</td>\n",
       "      <td>950.767502</td>\n",
       "      <td>958.119980</td>\n",
       "      <td>958.119980</td>\n",
       "      <td>1.184300e+06</td>\n",
       "    </tr>\n",
       "    <tr>\n",
       "      <th>50%</th>\n",
       "      <td>1130.574951</td>\n",
       "      <td>1142.984985</td>\n",
       "      <td>1117.374024</td>\n",
       "      <td>1132.005005</td>\n",
       "      <td>1132.005005</td>\n",
       "      <td>1.423200e+06</td>\n",
       "    </tr>\n",
       "    <tr>\n",
       "      <th>75%</th>\n",
       "      <td>1357.785034</td>\n",
       "      <td>1372.300995</td>\n",
       "      <td>1346.885010</td>\n",
       "      <td>1358.957519</td>\n",
       "      <td>1358.957519</td>\n",
       "      <td>1.823950e+06</td>\n",
       "    </tr>\n",
       "    <tr>\n",
       "      <th>max</th>\n",
       "      <td>2499.500000</td>\n",
       "      <td>2505.000000</td>\n",
       "      <td>2487.330078</td>\n",
       "      <td>2491.399902</td>\n",
       "      <td>2491.399902</td>\n",
       "      <td>6.207000e+06</td>\n",
       "    </tr>\n",
       "  </tbody>\n",
       "</table>\n",
       "</div>"
      ],
      "text/plain": [
       "              Open         High          Low        Close    Adj Close  \\\n",
       "count  1258.000000  1258.000000  1258.000000  1258.000000  1258.000000   \n",
       "mean   1212.412150  1224.570048  1201.347431  1213.457483  1213.457483   \n",
       "std     379.454923   384.609149   375.747847   380.308660   380.308660   \n",
       "min     671.000000   672.299988   663.283997   668.260010   668.260010   \n",
       "25%     957.377518   963.404984   950.767502   958.119980   958.119980   \n",
       "50%    1130.574951  1142.984985  1117.374024  1132.005005  1132.005005   \n",
       "75%    1357.785034  1372.300995  1346.885010  1358.957519  1358.957519   \n",
       "max    2499.500000  2505.000000  2487.330078  2491.399902  2491.399902   \n",
       "\n",
       "             Volume  \n",
       "count  1.258000e+03  \n",
       "mean   1.610740e+06  \n",
       "std    7.031610e+05  \n",
       "min    3.468000e+05  \n",
       "25%    1.184300e+06  \n",
       "50%    1.423200e+06  \n",
       "75%    1.823950e+06  \n",
       "max    6.207000e+06  "
      ]
     },
     "execution_count": 5,
     "metadata": {},
     "output_type": "execute_result"
    }
   ],
   "source": [
    "train.describe()"
   ]
  },
  {
   "cell_type": "markdown",
   "id": "8877b0e3",
   "metadata": {},
   "source": [
    "#### 'Close' column as training data"
   ]
  },
  {
   "cell_type": "code",
   "execution_count": 6,
   "id": "fd2cfce1",
   "metadata": {},
   "outputs": [],
   "source": [
    "train_list1=train[\"Close\"]\n",
    "train_list1=list(train_list1)\n",
    "test_list1=test[\"Close\"]\n",
    "test_list1=list(test_list1)"
   ]
  },
  {
   "cell_type": "code",
   "execution_count": 7,
   "id": "066f0f53",
   "metadata": {},
   "outputs": [
    {
     "data": {
      "text/plain": [
       "(1258, 253)"
      ]
     },
     "execution_count": 7,
     "metadata": {},
     "output_type": "execute_result"
    }
   ],
   "source": [
    "len(train_list1) , len(test_list1)"
   ]
  },
  {
   "cell_type": "markdown",
   "id": "db0be634",
   "metadata": {},
   "source": [
    "#### Importing adfuller function from statsmodel"
   ]
  },
  {
   "cell_type": "code",
   "execution_count": 8,
   "id": "ad86292b",
   "metadata": {},
   "outputs": [
    {
     "name": "stdout",
     "output_type": "stream",
     "text": [
      "ADF Statistic: 1.9368159937737108\n",
      "p-value: 0.9985850027950328\n"
     ]
    }
   ],
   "source": [
    "from statsmodels.tsa.stattools import adfuller\n",
    "\n",
    "result = adfuller(train_list1)\n",
    "print(f\"ADF Statistic: {result[0]}\")\n",
    "print(f\"p-value: {result[1]}\")"
   ]
  },
  {
   "cell_type": "markdown",
   "id": "136027e3",
   "metadata": {},
   "source": [
    "p-value is quite high(>0.05), So time series is not stationary"
   ]
  },
  {
   "cell_type": "markdown",
   "id": "c5d5a1af",
   "metadata": {},
   "source": [
    "#### Importing auto_arima "
   ]
  },
  {
   "cell_type": "code",
   "execution_count": 9,
   "id": "54c10602",
   "metadata": {},
   "outputs": [],
   "source": [
    "from pmdarima import auto_arima\n",
    "import warnings\n",
    "warnings.filterwarnings(\"ignore\")"
   ]
  },
  {
   "cell_type": "markdown",
   "id": "bedb0048",
   "metadata": {},
   "source": [
    "#### Using auto_arima to get the best model"
   ]
  },
  {
   "cell_type": "code",
   "execution_count": 10,
   "id": "f52217ce",
   "metadata": {
    "scrolled": true
   },
   "outputs": [
    {
     "name": "stdout",
     "output_type": "stream",
     "text": [
      "Performing stepwise search to minimize aic\n",
      " ARIMA(2,1,2)(0,0,0)[0] intercept   : AIC=11344.912, Time=0.82 sec\n",
      " ARIMA(0,1,0)(0,0,0)[0] intercept   : AIC=11352.162, Time=0.07 sec\n",
      " ARIMA(1,1,0)(0,0,0)[0] intercept   : AIC=11339.446, Time=0.09 sec\n",
      " ARIMA(0,1,1)(0,0,0)[0] intercept   : AIC=11340.105, Time=0.34 sec\n",
      " ARIMA(0,1,0)(0,0,0)[0]             : AIC=11355.272, Time=0.04 sec\n",
      " ARIMA(2,1,0)(0,0,0)[0] intercept   : AIC=11341.026, Time=0.13 sec\n",
      " ARIMA(1,1,1)(0,0,0)[0] intercept   : AIC=11340.960, Time=0.55 sec\n",
      " ARIMA(2,1,1)(0,0,0)[0] intercept   : AIC=11342.904, Time=0.77 sec\n",
      " ARIMA(1,1,0)(0,0,0)[0]             : AIC=11343.758, Time=0.03 sec\n",
      "\n",
      "Best model:  ARIMA(1,1,0)(0,0,0)[0] intercept\n",
      "Total fit time: 2.843 seconds\n"
     ]
    }
   ],
   "source": [
    "step_fit1 = auto_arima(train_list1,trace=True,suppress_warnings=True)"
   ]
  },
  {
   "cell_type": "markdown",
   "id": "1fefe954",
   "metadata": {},
   "source": [
    "#### Making train data as all data points except the last 30 and test data points as the last 30 data points"
   ]
  },
  {
   "cell_type": "code",
   "execution_count": 11,
   "id": "580216f2",
   "metadata": {},
   "outputs": [
    {
     "name": "stdout",
     "output_type": "stream",
     "text": [
      "1228 30\n"
     ]
    }
   ],
   "source": [
    "train_data_1228= train_list1[:-30]\n",
    "test_data_30 = train_list1[-30:]\n",
    "print(len(train_data_1228),len(test_data_30))"
   ]
  },
  {
   "cell_type": "markdown",
   "id": "e803c214",
   "metadata": {},
   "source": [
    "#### Creating ARIMA model"
   ]
  },
  {
   "cell_type": "code",
   "execution_count": 12,
   "id": "3dce0fb4",
   "metadata": {},
   "outputs": [
    {
     "data": {
      "text/html": [
       "<table class=\"simpletable\">\n",
       "<caption>SARIMAX Results</caption>\n",
       "<tr>\n",
       "  <th>Dep. Variable:</th>           <td>y</td>        <th>  No. Observations:  </th>   <td>1258</td>   \n",
       "</tr>\n",
       "<tr>\n",
       "  <th>Model:</th>           <td>SARIMAX(1, 1, 0)</td> <th>  Log Likelihood     </th> <td>-5666.723</td>\n",
       "</tr>\n",
       "<tr>\n",
       "  <th>Date:</th>            <td>Thu, 28 Jul 2022</td> <th>  AIC                </th> <td>11339.446</td>\n",
       "</tr>\n",
       "<tr>\n",
       "  <th>Time:</th>                <td>22:55:31</td>     <th>  BIC                </th> <td>11354.855</td>\n",
       "</tr>\n",
       "<tr>\n",
       "  <th>Sample:</th>                  <td>0</td>        <th>  HQIC               </th> <td>11345.237</td>\n",
       "</tr>\n",
       "<tr>\n",
       "  <th></th>                      <td> - 1258</td>     <th>                     </th>     <td> </td>    \n",
       "</tr>\n",
       "<tr>\n",
       "  <th>Covariance Type:</th>        <td>opg</td>       <th>                     </th>     <td> </td>    \n",
       "</tr>\n",
       "</table>\n",
       "<table class=\"simpletable\">\n",
       "<tr>\n",
       "      <td></td>         <th>coef</th>     <th>std err</th>      <th>z</th>      <th>P>|z|</th>  <th>[0.025</th>    <th>0.975]</th>  \n",
       "</tr>\n",
       "<tr>\n",
       "  <th>intercept</th> <td>    1.5632</td> <td>    0.622</td> <td>    2.512</td> <td> 0.012</td> <td>    0.343</td> <td>    2.783</td>\n",
       "</tr>\n",
       "<tr>\n",
       "  <th>ar.L1</th>     <td>   -0.1079</td> <td>    0.017</td> <td>   -6.468</td> <td> 0.000</td> <td>   -0.141</td> <td>   -0.075</td>\n",
       "</tr>\n",
       "<tr>\n",
       "  <th>sigma2</th>    <td>  482.5873</td> <td>    9.404</td> <td>   51.315</td> <td> 0.000</td> <td>  464.155</td> <td>  501.020</td>\n",
       "</tr>\n",
       "</table>\n",
       "<table class=\"simpletable\">\n",
       "<tr>\n",
       "  <th>Ljung-Box (L1) (Q):</th>     <td>0.00</td> <th>  Jarque-Bera (JB):  </th> <td>2176.84</td>\n",
       "</tr>\n",
       "<tr>\n",
       "  <th>Prob(Q):</th>                <td>0.95</td> <th>  Prob(JB):          </th>  <td>0.00</td>  \n",
       "</tr>\n",
       "<tr>\n",
       "  <th>Heteroskedasticity (H):</th> <td>9.42</td> <th>  Skew:              </th>  <td>0.02</td>  \n",
       "</tr>\n",
       "<tr>\n",
       "  <th>Prob(H) (two-sided):</th>    <td>0.00</td> <th>  Kurtosis:          </th>  <td>9.45</td>  \n",
       "</tr>\n",
       "</table><br/><br/>Warnings:<br/>[1] Covariance matrix calculated using the outer product of gradients (complex-step)."
      ],
      "text/plain": [
       "<class 'statsmodels.iolib.summary.Summary'>\n",
       "\"\"\"\n",
       "                               SARIMAX Results                                \n",
       "==============================================================================\n",
       "Dep. Variable:                      y   No. Observations:                 1258\n",
       "Model:               SARIMAX(1, 1, 0)   Log Likelihood               -5666.723\n",
       "Date:                Thu, 28 Jul 2022   AIC                          11339.446\n",
       "Time:                        22:55:31   BIC                          11354.855\n",
       "Sample:                             0   HQIC                         11345.237\n",
       "                               - 1258                                         \n",
       "Covariance Type:                  opg                                         \n",
       "==============================================================================\n",
       "                 coef    std err          z      P>|z|      [0.025      0.975]\n",
       "------------------------------------------------------------------------------\n",
       "intercept      1.5632      0.622      2.512      0.012       0.343       2.783\n",
       "ar.L1         -0.1079      0.017     -6.468      0.000      -0.141      -0.075\n",
       "sigma2       482.5873      9.404     51.315      0.000     464.155     501.020\n",
       "===================================================================================\n",
       "Ljung-Box (L1) (Q):                   0.00   Jarque-Bera (JB):              2176.84\n",
       "Prob(Q):                              0.95   Prob(JB):                         0.00\n",
       "Heteroskedasticity (H):               9.42   Skew:                             0.02\n",
       "Prob(H) (two-sided):                  0.00   Kurtosis:                         9.45\n",
       "===================================================================================\n",
       "\n",
       "Warnings:\n",
       "[1] Covariance matrix calculated using the outer product of gradients (complex-step).\n",
       "\"\"\""
      ]
     },
     "execution_count": 12,
     "metadata": {},
     "output_type": "execute_result"
    }
   ],
   "source": [
    "import statsmodels.api as sm\n",
    "model1 = sm.tsa.arima.ARIMA(train_list1, order=(1,1,0))\n",
    "result1 = model1.fit()\n",
    "step_fit1.summary()"
   ]
  },
  {
   "cell_type": "markdown",
   "id": "6e3ff499",
   "metadata": {},
   "source": [
    "#### Fit the model and predict the results"
   ]
  },
  {
   "cell_type": "code",
   "execution_count": 13,
   "id": "61c37630",
   "metadata": {},
   "outputs": [],
   "source": [
    "start = len(train_data_1228)\n",
    "end = len(train_data_1228)+len(test_data_30)-1\n",
    "pred1 = result1.predict(start=start,end=end)"
   ]
  },
  {
   "cell_type": "code",
   "execution_count": 14,
   "id": "ab115f45",
   "metadata": {
    "scrolled": true
   },
   "outputs": [
    {
     "data": {
      "text/plain": [
       "30"
      ]
     },
     "execution_count": 14,
     "metadata": {},
     "output_type": "execute_result"
    }
   ],
   "source": [
    "len(pred1)"
   ]
  },
  {
   "cell_type": "markdown",
   "id": "594fb39c",
   "metadata": {},
   "source": [
    "#### Plotting actual and predicted results on graph"
   ]
  },
  {
   "cell_type": "code",
   "execution_count": 15,
   "id": "76bf1b2b",
   "metadata": {},
   "outputs": [
    {
     "data": {
      "image/png": "[encoded data removed]",
      "text/plain": [
       "<Figure size 432x288 with 1 Axes>"
      ]
     },
     "metadata": {
      "needs_background": "light"
     },
     "output_type": "display_data"
    }
   ],
   "source": [
    "import matplotlib.pyplot as plt\n",
    "\n",
    "plt.plot(pred1,color = 'r',label='prediction over 30 values')\n",
    "plt.plot(test_data_30,label='test over 30 values')\n",
    "plt.xlabel('No. of days')\n",
    "plt.ylabel('Stock price')\n",
    "plt.legend()\n",
    "plt.show()"
   ]
  },
  {
   "cell_type": "markdown",
   "id": "8bc406de",
   "metadata": {},
   "source": [
    "#### Mean square error"
   ]
  },
  {
   "cell_type": "code",
   "execution_count": 16,
   "id": "6518e30f",
   "metadata": {},
   "outputs": [
    {
     "name": "stdout",
     "output_type": "stream",
     "text": [
      "MSE is = 34.89125872422999\n",
      "R2 score is 67.39428036765915 %\n"
     ]
    }
   ],
   "source": [
    "from sklearn.metrics import mean_squared_error, r2_score\n",
    "from math import sqrt\n",
    "print(f'MSE is =',sqrt(mean_squared_error(test_data_30,pred1)))\n",
    "print(f'R2 score is',r2_score(test_data_30,pred1)*100,'%')"
   ]
  },
  {
   "cell_type": "markdown",
   "id": "51b4a8f4",
   "metadata": {},
   "source": [
    "r2 is not good over 30 days test data. Hence considering the training and test data for"
   ]
  },
  {
   "cell_type": "markdown",
   "id": "8e4f53ce",
   "metadata": {},
   "source": [
    "#### 'Close' column as training data"
   ]
  },
  {
   "cell_type": "code",
   "execution_count": 17,
   "id": "d57abda1",
   "metadata": {},
   "outputs": [],
   "source": [
    "train_list2=train[\"Close\"]\n",
    "train_list2=list(train_list1)\n",
    "test_list2=test[\"Close\"]\n",
    "test_list2=list(test_list2)"
   ]
  },
  {
   "cell_type": "code",
   "execution_count": 18,
   "id": "01325f1c",
   "metadata": {},
   "outputs": [
    {
     "data": {
      "text/plain": [
       "(1258, 253)"
      ]
     },
     "execution_count": 18,
     "metadata": {},
     "output_type": "execute_result"
    }
   ],
   "source": [
    "len(train_list2) , len(test_list2)"
   ]
  },
  {
   "cell_type": "code",
   "execution_count": 19,
   "id": "89ce744b",
   "metadata": {
    "scrolled": true
   },
   "outputs": [
    {
     "data": {
      "text/plain": [
       "1511"
      ]
     },
     "execution_count": 19,
     "metadata": {},
     "output_type": "execute_result"
    }
   ],
   "source": [
    "train_list2.extend(test_list2)\n",
    "len(train_list2)"
   ]
  },
  {
   "cell_type": "markdown",
   "id": "dcd2f7a1",
   "metadata": {},
   "source": [
    "#### Importing adfuller function from statsmodel"
   ]
  },
  {
   "cell_type": "code",
   "execution_count": 20,
   "id": "3f4597a8",
   "metadata": {},
   "outputs": [
    {
     "name": "stdout",
     "output_type": "stream",
     "text": [
      "ADF Statistic: -0.6136582483986688\n",
      "p-value: 0.8678658599134333\n"
     ]
    }
   ],
   "source": [
    "from statsmodels.tsa.stattools import adfuller\n",
    "\n",
    "result = adfuller(train_list2)\n",
    "print(f\"ADF Statistic: {result[0]}\")\n",
    "print(f\"p-value: {result[1]}\")"
   ]
  },
  {
   "cell_type": "markdown",
   "id": "e73957bf",
   "metadata": {},
   "source": [
    "p-value is also quite high here(>0.05), So time series is not stationary"
   ]
  },
  {
   "cell_type": "markdown",
   "id": "6ae1d6a7",
   "metadata": {},
   "source": [
    "#### Importing auto_arima "
   ]
  },
  {
   "cell_type": "code",
   "execution_count": 21,
   "id": "5e9dbd27",
   "metadata": {},
   "outputs": [],
   "source": [
    "from pmdarima import auto_arima\n",
    "import warnings\n",
    "warnings.filterwarnings(\"ignore\")"
   ]
  },
  {
   "cell_type": "markdown",
   "id": "488e84b4",
   "metadata": {},
   "source": [
    "#### Using auto_arima to get the best model"
   ]
  },
  {
   "cell_type": "code",
   "execution_count": 22,
   "id": "4e5bba1a",
   "metadata": {
    "scrolled": true
   },
   "outputs": [
    {
     "name": "stdout",
     "output_type": "stream",
     "text": [
      "Performing stepwise search to minimize aic\n",
      " ARIMA(2,1,2)(0,0,0)[0] intercept   : AIC=14347.096, Time=1.28 sec\n",
      " ARIMA(0,1,0)(0,0,0)[0] intercept   : AIC=14353.081, Time=0.05 sec\n",
      " ARIMA(1,1,0)(0,0,0)[0] intercept   : AIC=14344.966, Time=0.12 sec\n",
      " ARIMA(0,1,1)(0,0,0)[0] intercept   : AIC=14345.393, Time=0.25 sec\n",
      " ARIMA(0,1,0)(0,0,0)[0]             : AIC=14353.185, Time=0.03 sec\n",
      " ARIMA(2,1,0)(0,0,0)[0] intercept   : AIC=14346.190, Time=0.11 sec\n",
      " ARIMA(1,1,1)(0,0,0)[0] intercept   : AIC=14344.779, Time=0.81 sec\n",
      " ARIMA(2,1,1)(0,0,0)[0] intercept   : AIC=14346.779, Time=0.85 sec\n",
      " ARIMA(1,1,2)(0,0,0)[0] intercept   : AIC=14346.779, Time=0.99 sec\n",
      " ARIMA(0,1,2)(0,0,0)[0] intercept   : AIC=14346.728, Time=0.40 sec\n",
      " ARIMA(1,1,1)(0,0,0)[0]             : AIC=14345.148, Time=0.19 sec\n",
      "\n",
      "Best model:  ARIMA(1,1,1)(0,0,0)[0] intercept\n",
      "Total fit time: 5.107 seconds\n"
     ]
    }
   ],
   "source": [
    "step_fit2 = auto_arima(train_list2,trace=True,suppress_warnings=True)"
   ]
  },
  {
   "cell_type": "markdown",
   "id": "1fcc5eb6",
   "metadata": {},
   "source": [
    "#### Using training data for training the model over 1258 data and for testing using test data as 253"
   ]
  },
  {
   "cell_type": "code",
   "execution_count": 23,
   "id": "25045afe",
   "metadata": {},
   "outputs": [
    {
     "name": "stdout",
     "output_type": "stream",
     "text": [
      "1258 253\n"
     ]
    }
   ],
   "source": [
    "train= train_list2[:-253]\n",
    "test = train_list2[-253:]\n",
    "print(len(train),len(test))"
   ]
  },
  {
   "cell_type": "markdown",
   "id": "4767c88c",
   "metadata": {},
   "source": [
    "#### Creating ARIMA model"
   ]
  },
  {
   "cell_type": "code",
   "execution_count": 24,
   "id": "e19f73d2",
   "metadata": {},
   "outputs": [
    {
     "data": {
      "text/html": [
       "<table class=\"simpletable\">\n",
       "<caption>SARIMAX Results</caption>\n",
       "<tr>\n",
       "  <th>Dep. Variable:</th>           <td>y</td>        <th>  No. Observations:  </th>   <td>1511</td>   \n",
       "</tr>\n",
       "<tr>\n",
       "  <th>Model:</th>           <td>SARIMAX(1, 1, 1)</td> <th>  Log Likelihood     </th> <td>-7168.390</td>\n",
       "</tr>\n",
       "<tr>\n",
       "  <th>Date:</th>            <td>Thu, 28 Jul 2022</td> <th>  AIC                </th> <td>14344.779</td>\n",
       "</tr>\n",
       "<tr>\n",
       "  <th>Time:</th>                <td>22:55:36</td>     <th>  BIC                </th> <td>14366.059</td>\n",
       "</tr>\n",
       "<tr>\n",
       "  <th>Sample:</th>                  <td>0</td>        <th>  HQIC               </th> <td>14352.704</td>\n",
       "</tr>\n",
       "<tr>\n",
       "  <th></th>                      <td> - 1511</td>     <th>                     </th>     <td> </td>    \n",
       "</tr>\n",
       "<tr>\n",
       "  <th>Covariance Type:</th>        <td>opg</td>       <th>                     </th>     <td> </td>    \n",
       "</tr>\n",
       "</table>\n",
       "<table class=\"simpletable\">\n",
       "<tr>\n",
       "      <td></td>         <th>coef</th>     <th>std err</th>      <th>z</th>      <th>P>|z|</th>  <th>[0.025</th>    <th>0.975]</th>  \n",
       "</tr>\n",
       "<tr>\n",
       "  <th>intercept</th> <td>    1.5704</td> <td>    1.044</td> <td>    1.504</td> <td> 0.133</td> <td>   -0.476</td> <td>    3.617</td>\n",
       "</tr>\n",
       "<tr>\n",
       "  <th>ar.L1</th>     <td>   -0.4993</td> <td>    0.135</td> <td>   -3.690</td> <td> 0.000</td> <td>   -0.764</td> <td>   -0.234</td>\n",
       "</tr>\n",
       "<tr>\n",
       "  <th>ma.L1</th>     <td>    0.4209</td> <td>    0.140</td> <td>    2.997</td> <td> 0.003</td> <td>    0.146</td> <td>    0.696</td>\n",
       "</tr>\n",
       "<tr>\n",
       "  <th>sigma2</th>    <td>  777.9778</td> <td>   14.115</td> <td>   55.116</td> <td> 0.000</td> <td>  750.313</td> <td>  805.643</td>\n",
       "</tr>\n",
       "</table>\n",
       "<table class=\"simpletable\">\n",
       "<tr>\n",
       "  <th>Ljung-Box (L1) (Q):</th>     <td>0.00</td>  <th>  Jarque-Bera (JB):  </th> <td>2307.80</td>\n",
       "</tr>\n",
       "<tr>\n",
       "  <th>Prob(Q):</th>                <td>1.00</td>  <th>  Prob(JB):          </th>  <td>0.00</td>  \n",
       "</tr>\n",
       "<tr>\n",
       "  <th>Heteroskedasticity (H):</th> <td>11.50</td> <th>  Skew:              </th>  <td>0.02</td>  \n",
       "</tr>\n",
       "<tr>\n",
       "  <th>Prob(H) (two-sided):</th>    <td>0.00</td>  <th>  Kurtosis:          </th>  <td>9.06</td>  \n",
       "</tr>\n",
       "</table><br/><br/>Warnings:<br/>[1] Covariance matrix calculated using the outer product of gradients (complex-step)."
      ],
      "text/plain": [
       "<class 'statsmodels.iolib.summary.Summary'>\n",
       "\"\"\"\n",
       "                               SARIMAX Results                                \n",
       "==============================================================================\n",
       "Dep. Variable:                      y   No. Observations:                 1511\n",
       "Model:               SARIMAX(1, 1, 1)   Log Likelihood               -7168.390\n",
       "Date:                Thu, 28 Jul 2022   AIC                          14344.779\n",
       "Time:                        22:55:36   BIC                          14366.059\n",
       "Sample:                             0   HQIC                         14352.704\n",
       "                               - 1511                                         \n",
       "Covariance Type:                  opg                                         \n",
       "==============================================================================\n",
       "                 coef    std err          z      P>|z|      [0.025      0.975]\n",
       "------------------------------------------------------------------------------\n",
       "intercept      1.5704      1.044      1.504      0.133      -0.476       3.617\n",
       "ar.L1         -0.4993      0.135     -3.690      0.000      -0.764      -0.234\n",
       "ma.L1          0.4209      0.140      2.997      0.003       0.146       0.696\n",
       "sigma2       777.9778     14.115     55.116      0.000     750.313     805.643\n",
       "===================================================================================\n",
       "Ljung-Box (L1) (Q):                   0.00   Jarque-Bera (JB):              2307.80\n",
       "Prob(Q):                              1.00   Prob(JB):                         0.00\n",
       "Heteroskedasticity (H):              11.50   Skew:                             0.02\n",
       "Prob(H) (two-sided):                  0.00   Kurtosis:                         9.06\n",
       "===================================================================================\n",
       "\n",
       "Warnings:\n",
       "[1] Covariance matrix calculated using the outer product of gradients (complex-step).\n",
       "\"\"\""
      ]
     },
     "execution_count": 24,
     "metadata": {},
     "output_type": "execute_result"
    }
   ],
   "source": [
    "import statsmodels.api as sm\n",
    "model2 = sm.tsa.arima.ARIMA(train_list2, order=(1,1,1))\n",
    "result2 = model2.fit()\n",
    "step_fit2.summary()"
   ]
  },
  {
   "cell_type": "markdown",
   "id": "e89171f6",
   "metadata": {},
   "source": [
    "#### Fit the model and predict the results"
   ]
  },
  {
   "cell_type": "code",
   "execution_count": 25,
   "id": "5b7324bd",
   "metadata": {},
   "outputs": [
    {
     "data": {
      "text/plain": [
       "253"
      ]
     },
     "execution_count": 25,
     "metadata": {},
     "output_type": "execute_result"
    }
   ],
   "source": [
    "start = len(train)\n",
    "end = len(train)+len(test)-1\n",
    "pred2 = result2.predict(start=start,end=end)\n",
    "len(pred2)"
   ]
  },
  {
   "cell_type": "markdown",
   "id": "e3df2be4",
   "metadata": {},
   "source": [
    "#### Plotting actual and predicted results on graph"
   ]
  },
  {
   "cell_type": "code",
   "execution_count": 26,
   "id": "3803c3e0",
   "metadata": {},
   "outputs": [
    {
     "data": {
      "image/png": "[encoded data removed]",
      "text/plain": [
       "<Figure size 432x288 with 1 Axes>"
      ]
     },
     "metadata": {
      "needs_background": "light"
     },
     "output_type": "display_data"
    }
   ],
   "source": [
    "import matplotlib.pyplot as plt\n",
    "\n",
    "plt.plot(pred2,color = 'r',label='Prediction')\n",
    "plt.plot(test,label='Test')\n",
    "plt.xlabel('No. of days')\n",
    "plt.ylabel('Stock price')\n",
    "plt.legend(loc='best')\n",
    "plt.show()"
   ]
  },
  {
   "cell_type": "markdown",
   "id": "e267f810",
   "metadata": {},
   "source": [
    "#### Mean square error"
   ]
  },
  {
   "cell_type": "code",
   "execution_count": 27,
   "id": "53aef7df",
   "metadata": {},
   "outputs": [
    {
     "name": "stdout",
     "output_type": "stream",
     "text": [
      "MSE is = 47.351603030158756\n",
      "R2 score is 94.66613348579128 %\n"
     ]
    }
   ],
   "source": [
    "from sklearn.metrics import mean_squared_error, r2_score\n",
    "from math import sqrt\n",
    "print(f'MSE is =',sqrt(mean_squared_error(test,pred2)))\n",
    "print(f'R2 score is',r2_score(test,pred2)*100,'%')"
   ]
  },
  {
   "cell_type": "markdown",
   "id": "017329f7",
   "metadata": {},
   "source": [
    "This data has pretty good R2 score"
   ]
  },
  {
   "cell_type": "markdown",
   "id": "a14a46f0",
   "metadata": {},
   "source": [
    "### Predicting and plotting results for future stocks"
   ]
  },
  {
   "cell_type": "code",
   "execution_count": 28,
   "id": "f4c5ed6f",
   "metadata": {},
   "outputs": [],
   "source": [
    "future_stock_prediction = result2.predict(start=len(train_list2),end=len(train_list2)+30)"
   ]
  },
  {
   "cell_type": "code",
   "execution_count": 36,
   "id": "ed84feab",
   "metadata": {},
   "outputs": [
    {
     "data": {
      "image/png": "[encoded data removed]",
      "text/plain": [
       "<Figure size 1440x720 with 1 Axes>"
      ]
     },
     "metadata": {},
     "output_type": "display_data"
    }
   ],
   "source": [
    "plt.figure(figsize=(20, 10))\n",
    "plt.style.use('dark_background')\n",
    "plt.plot(np.arange(len(train)),train)\n",
    "plt.plot(np.arange(len(train),len(train)+len(test)),test,color='yellow',label='Actual')\n",
    "plt.plot(np.arange(len(train),len(train)+len(test)),pred2,color = 'r',label='Predicted')\n",
    "plt.plot(np.arange(len(train)+len(test),len(train)+len(test)+31),future_stock_prediction,color='m',label='Future stock prediction')\n",
    "plt.title('Google Stock Price Prediction using ARIMA model')\n",
    "plt.xlabel('Time')\n",
    "plt.ylabel('Google Stock Price')\n",
    "plt.legend(loc='best')\n",
    "plt.grid()\n",
    "plt.show()"
   ]
  }
 ],
 "metadata": {
  "kernelspec": {
   "display_name": "Python 3 (ipykernel)",
   "language": "python",
   "name": "python3"
  },
  "language_info": {
   "codemirror_mode": {
    "name": "ipython",
    "version": 3
   },
   "file_extension": ".py",
   "mimetype": "text/x-python",
   "name": "python",
   "nbconvert_exporter": "python",
   "pygments_lexer": "ipython3",
   "version": "3.9.7"
  }
 },
 "nbformat": 4,
 "nbformat_minor": 5
}
